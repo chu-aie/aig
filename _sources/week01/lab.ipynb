{
 "cells": [
  {
   "attachments": {},
   "cell_type": "markdown",
   "metadata": {
    "id": "cjgz1WTcPWee"
   },
   "source": [
    "# Lab: AI 프로그래밍 필수사항\n",
    "\n",
    "![cover](figs/image-3.png)\n"
   ]
  },
  {
   "attachments": {},
   "cell_type": "markdown",
   "metadata": {},
   "source": [
    "## 1. Google Colab 소개 및 사용법\n",
    "\n",
    "### 서론\n",
    "\n",
    "- Google Colab은 클라우드 기반의 무료 Jupyter 노트북 환경입니다.\n",
    "- 복잡한 설치 과정 없이 웹 브라우저를 통해 Python을 실행할 수 있습니다.\n",
    "- 이 세션에서는 Google Colab의 기본 사용법과 예제 코드를 통해 실습합니다.\n",
    "\n",
    "### Google Colab 환경 설정\n",
    "\n",
    "- 웹 브라우저에서 [Google Colab](https://colab.research.google.com/)에 접속하세요.\n",
    "- Google 계정으로 로그인하고, '새 노트'를 클릭하여 새로운 노트북을 생성합니다.\n",
    "- 간단한 Python 코드를 실행하여 Colab 환경을 테스트해 봅시다.\n"
   ]
  },
  {
   "cell_type": "code",
   "execution_count": 1,
   "metadata": {},
   "outputs": [
    {
     "name": "stdout",
     "output_type": "stream",
     "text": [
      "Hello, Google Colab!\n"
     ]
    }
   ],
   "source": [
    "# 간단한 출력 예제\n",
    "print(\"Hello, Google Colab!\")"
   ]
  },
  {
   "cell_type": "markdown",
   "metadata": {},
   "source": [
    "### Python 코드 작성 및 실행\n",
    "\n",
    "- 셀에 Python 코드를 작성하고 실행하려면 셀을 선택하고 'Shift + Enter'를 누릅니다.\n",
    "- 여러분이 작성한 코드는 클라우드 서버에서 실행되고 결과가 브라우저에 표시됩니다.\n"
   ]
  },
  {
   "cell_type": "code",
   "execution_count": 2,
   "metadata": {},
   "outputs": [
    {
     "name": "stdout",
     "output_type": "stream",
     "text": [
      "a + b = 30\n"
     ]
    }
   ],
   "source": [
    "# 기본 수학 연산 예제\n",
    "a = 10\n",
    "b = 20\n",
    "print(\"a + b =\", a + b)"
   ]
  },
  {
   "cell_type": "markdown",
   "metadata": {},
   "source": [
    "### 데이터 업로드 및 사용\n",
    "\n",
    "- Google Colab에서 데이터를 업로드하고 사용하는 방법을 알아봅시다.\n",
    "- '파일' 탭을 클릭하고 '파일 업로드'를 선택하여 데이터를 업로드할 수 있습니다.\n",
    "- Pandas 패키지를 사용하여 업로드된 데이터를 불러와 봅시다.\n"
   ]
  },
  {
   "cell_type": "code",
   "execution_count": null,
   "metadata": {},
   "outputs": [],
   "source": [
    "import pandas as pd\n",
    "\n",
    "# CSV 파일 불러오기 예제\n",
    "data = pd.read_csv(\"sample_data.csv\")\n",
    "data.head()"
   ]
  },
  {
   "cell_type": "markdown",
   "metadata": {},
   "source": [
    "### 라이브러리 설치 및 사용\n",
    "\n",
    "- 필요한 Python 라이브러리를 설치하고 사용하는 방법을 배웁니다.\n",
    "- `!pip install` 명령어를 사용하여 라이브러리를 설치할 수 있습니다.\n",
    "- 설치된 라이브러리를 import하여 사용합니다.\n"
   ]
  },
  {
   "cell_type": "code",
   "execution_count": null,
   "metadata": {},
   "outputs": [],
   "source": [
    "%%capture \n",
    "# Matplotlib 라이브러리 설치 및 사용 예제\n",
    "%pip install matplotlib\n"
   ]
  },
  {
   "cell_type": "code",
   "execution_count": 3,
   "metadata": {},
   "outputs": [
    {
     "data": {
      "image/png": "[encoded data removed]",
      "text/plain": [
       "<Figure size 640x480 with 1 Axes>"
      ]
     },
     "metadata": {},
     "output_type": "display_data"
    }
   ],
   "source": [
    "import matplotlib.pyplot as plt\n",
    "\n",
    "plt.plot([1, 2, 3, 4])\n",
    "plt.ylabel(\"some numbers\")\n",
    "plt.show()"
   ]
  },
  {
   "cell_type": "markdown",
   "metadata": {},
   "source": [
    "### Google Drive 연동\n",
    "\n",
    "- Google Colab은 Google Drive와의 연동이 가능합니다.\n",
    "- 드라이브를 마운트하면 Colab 노트북에서 직접 파일에 접근할 수 있습니다.\n"
   ]
  },
  {
   "cell_type": "code",
   "execution_count": null,
   "metadata": {},
   "outputs": [],
   "source": [
    "from google.colab import drive\n",
    "\n",
    "drive.mount(\"/content/drive\")"
   ]
  },
  {
   "cell_type": "markdown",
   "metadata": {},
   "source": [
    "- Google Colab은 AI와 머신러닝 분야의 실습 및 연구에 매우 유용합니다.\n",
    "- 오늘 실습을 통해 Colab의 기본적인 사용 방법을 익혔습니다.\n",
    "- 추가 실습을 통해 다양한 기능을 탐색해보세요.\n",
    "\n",
    "## 2. Python 기본 문법 소개\n",
    "\n",
    "### 서론\n",
    "\n",
    "- Python은 간결하고 읽기 쉬운 문법으로 유명합니다.\n",
    "- 이 세션에서는 Python의 기본 문법과 구조를 배우고, 예제 코드를 통해 실습합니다.\n",
    "\n",
    "### 변수와 자료형\n",
    "\n",
    "- Python에서 변수를 선언하고 데이터를 할당하는 방법을 배웁니다.\n",
    "- 기본 자료형으로는 정수형(int), 실수형(float), 문자열(str)이 있습니다.\n"
   ]
  },
  {
   "cell_type": "code",
   "execution_count": 5,
   "metadata": {},
   "outputs": [
    {
     "name": "stdout",
     "output_type": "stream",
     "text": [
      "10 20.5 Hello, Python!\n"
     ]
    }
   ],
   "source": [
    "# 변수 할당 및 출력 예제\n",
    "my_number = 10\n",
    "my_float = 20.5\n",
    "my_string = \"Hello, Python!\"\n",
    "print(my_number, my_float, my_string)"
   ]
  },
  {
   "cell_type": "markdown",
   "metadata": {},
   "source": [
    "### 연산자 사용\n",
    "\n",
    "- Python의 기본적인 산술 연산자(+, -, \\*, /)와 비교 연산자(==, !=, <, >)를 살펴봅니다.\n",
    "- 이 연산자들을 사용하여 간단한 계산을 해봅시다.\n"
   ]
  },
  {
   "cell_type": "code",
   "execution_count": 6,
   "metadata": {},
   "outputs": [
    {
     "name": "stdout",
     "output_type": "stream",
     "text": [
      "a + b = 13\n",
      "a - b = 7\n",
      "a * b = 30\n",
      "a / b = 3.3333333333333335\n"
     ]
    }
   ],
   "source": [
    "# 산술 연산 예제\n",
    "a = 10\n",
    "b = 3\n",
    "print(\"a + b =\", a + b)\n",
    "print(\"a - b =\", a - b)\n",
    "print(\"a * b =\", a * b)\n",
    "print(\"a / b =\", a / b)"
   ]
  },
  {
   "cell_type": "markdown",
   "metadata": {},
   "source": [
    "### 조건문\n",
    "\n",
    "- 조건문을 사용하여 특정 조건에 따라 다른 작업을 수행하게 합니다.\n",
    "- `if`, `elif`, `else` 키워드를 사용하는 방법을 배웁니다.\n"
   ]
  },
  {
   "cell_type": "code",
   "execution_count": 7,
   "metadata": {},
   "outputs": [
    {
     "name": "stdout",
     "output_type": "stream",
     "text": [
      "성인입니다.\n"
     ]
    }
   ],
   "source": [
    "# 조건문 예제\n",
    "age = 20\n",
    "if age < 18:\n",
    "    print(\"청소년입니다.\")\n",
    "elif age >= 18 and age < 65:\n",
    "    print(\"성인입니다.\")\n",
    "else:\n",
    "    print(\"노인입니다.\")"
   ]
  },
  {
   "cell_type": "markdown",
   "metadata": {},
   "source": [
    "### 반복문\n",
    "\n",
    "- 반복 작업을 위해 `for` 루프와 `while` 루프의 사용법을 배웁니다.\n",
    "- 반복문을 통해 리스트나 문자열과 같은 시퀀스를 순회할 수 있습니다.\n"
   ]
  },
  {
   "cell_type": "code",
   "execution_count": 8,
   "metadata": {},
   "outputs": [
    {
     "name": "stdout",
     "output_type": "stream",
     "text": [
      "0\n",
      "1\n",
      "2\n",
      "3\n",
      "4\n",
      "0\n",
      "1\n",
      "2\n",
      "3\n",
      "4\n"
     ]
    }
   ],
   "source": [
    "# for 루프 예제\n",
    "for i in range(5):\n",
    "    print(i)\n",
    "\n",
    "# while 루프 예제\n",
    "j = 0\n",
    "while j < 5:\n",
    "    print(j)\n",
    "    j += 1"
   ]
  },
  {
   "cell_type": "markdown",
   "metadata": {},
   "source": [
    "### 함수 정의 및 호출\n",
    "\n",
    "- Python에서 함수를 정의하고 호출하는 방법을 배웁니다.\n",
    "- `def` 키워드를 사용하여 함수를 정의하고, 매개변수를 전달할 수 있습니다.\n"
   ]
  },
  {
   "cell_type": "code",
   "execution_count": 9,
   "metadata": {},
   "outputs": [
    {
     "name": "stdout",
     "output_type": "stream",
     "text": [
      "안녕하세요, Python!\n"
     ]
    }
   ],
   "source": [
    "# 함수 정의 및 호출 예제\n",
    "def greet(name):\n",
    "    print(\"안녕하세요, \" + name + \"!\")\n",
    "\n",
    "\n",
    "greet(\"Python\")"
   ]
  },
  {
   "cell_type": "markdown",
   "metadata": {},
   "source": [
    "- Python 기본 문법은 프로그래밍의 기초를 이해하는 데 매우 중요합니다.\n",
    "- 오늘 배운 내용을 기반으로 추가적인 실습과 연습을 해보세요.\n",
    "- Python은 다양한 분야에서 활용되므로, 기본 문법을 숙지하는 것이 중요합니다.\n",
    "\n",
    "## 3. Python 데이터 구조\n",
    "\n",
    "### 서론\n",
    "\n",
    "- Python은 다양한 데이터 구조를 제공하여 효율적인 데이터 관리를 가능하게 합니다.\n",
    "- 이 세션에서는 Python의 기본 데이터 구조들을 살펴보고 간단한 예제 코드를 통해 실습해봅니다.\n",
    "\n",
    "### 리스트(List)\n",
    "\n",
    "- 리스트는 Python에서 가장 자주 사용되는 데이터 구조 중 하나입니다.\n",
    "- 순서가 있는 컬렉션으로, 데이터의 추가, 삭제, 접근이 용이합니다.\n",
    "- 간단한 리스트 생성과 기본 연산을 실습해봅시다.\n"
   ]
  },
  {
   "cell_type": "code",
   "execution_count": 10,
   "metadata": {},
   "outputs": [
    {
     "name": "stdout",
     "output_type": "stream",
     "text": [
      "원본 리스트: [1, 2, 3, 4, 5]\n",
      "항목 추가 후: [1, 2, 3, 4, 5, 6]\n",
      "세 번째 항목: 3\n"
     ]
    }
   ],
   "source": [
    "# 리스트 생성 및 기본 연산\n",
    "my_list = [1, 2, 3, 4, 5]\n",
    "print(\"원본 리스트:\", my_list)\n",
    "\n",
    "# 리스트 항목 추가\n",
    "my_list.append(6)\n",
    "print(\"항목 추가 후:\", my_list)\n",
    "\n",
    "# 리스트 항목 접근\n",
    "print(\"세 번째 항목:\", my_list[2])"
   ]
  },
  {
   "cell_type": "markdown",
   "metadata": {},
   "source": [
    "### 튜플(Tuple)\n",
    "\n",
    "- 튜플은 변경 불가능한(immutable) 데이터 구조입니다.\n",
    "- 리스트와 유사하지만, 한 번 생성되면 항목을 변경할 수 없습니다.\n",
    "- 튜플의 생성과 사용을 실습해봅시다.\n"
   ]
  },
  {
   "cell_type": "code",
   "execution_count": null,
   "metadata": {},
   "outputs": [],
   "source": [
    "# 튜플 생성 및 사용\n",
    "my_tuple = (1, 2, 3, 4, 5)\n",
    "print(\"튜플:\", my_tuple)\n",
    "\n",
    "# 튜플 항목 접근\n",
    "print(\"두 번째 항목:\", my_tuple[1])"
   ]
  },
  {
   "cell_type": "markdown",
   "metadata": {},
   "source": [
    "### 세트(Set)\n",
    "\n",
    "- 세트는 중복을 허용하지 않는 데이터 구조입니다.\n",
    "- 수학의 집합 개념과 유사하며, 데이터의 유일성을 보장합니다.\n",
    "- 간단한 세트 생성과 연산을 실습해봅시다.\n"
   ]
  },
  {
   "cell_type": "code",
   "execution_count": 11,
   "metadata": {},
   "outputs": [
    {
     "name": "stdout",
     "output_type": "stream",
     "text": [
      "세트: {1, 2, 3, 4, 5}\n",
      "항목 추가 후: {1, 2, 3, 4, 5, 6}\n"
     ]
    }
   ],
   "source": [
    "# 세트 생성 및 기본 연산\n",
    "my_set = {1, 2, 3, 4, 5}\n",
    "print(\"세트:\", my_set)\n",
    "\n",
    "# 세트에 항목 추가\n",
    "my_set.add(6)\n",
    "print(\"항목 추가 후:\", my_set)"
   ]
  },
  {
   "cell_type": "markdown",
   "metadata": {},
   "source": [
    "### 사전(Dictionary)\n",
    "\n",
    "- 사전은 키-값 쌍으로 데이터를 저장하는 데이터 구조입니다.\n",
    "- 데이터에 빠르게 접근할 수 있으며, 키를 통해 값을 검색합니다.\n",
    "- 간단한 사전 생성과 사용을 실습해봅시다.\n"
   ]
  },
  {
   "cell_type": "code",
   "execution_count": 12,
   "metadata": {},
   "outputs": [
    {
     "name": "stdout",
     "output_type": "stream",
     "text": [
      "사전: {'a': 1, 'b': 2, 'c': 3}\n",
      "키 'b'의 값: 2\n"
     ]
    }
   ],
   "source": [
    "# 사전 생성 및 사용\n",
    "my_dict = {\"a\": 1, \"b\": 2, \"c\": 3}\n",
    "print(\"사전:\", my_dict)\n",
    "\n",
    "# 사전에서 키를 통한 값 접근\n",
    "print(\"키 'b'의 값:\", my_dict[\"b\"])"
   ]
  },
  {
   "cell_type": "markdown",
   "metadata": {},
   "source": [
    "### 데이터 구조의 중요성\n",
    "\n",
    "- Python의 다양한 데이터 구조는 프로그래밍 문제를 해결하는 데 필수적입니다.\n",
    "- 각 데이터 구조는 특정 상황에 적합하게 설계되었습니다.\n",
    "- 데이터의 효율적인 관리와 처리를 위해 적절한 데이터 구조를 선택하는 것이 중요합니다.\n",
    "- 이러한 데이터 구조들은 Python 프로그래밍의 기본이며, 다양한 응용 프로그램에 사용됩니다.\n",
    "\n",
    "## 4. 기본 Python 패키지 소개\n",
    "\n",
    "### 서론\n",
    "\n",
    "- Python은 데이터 처리, 분석, 시각화를 위한 다양한 패키지를 제공합니다.\n",
    "- 이 세션에서는 Python의 기본 패키지 몇 가지를 소개하고 간단한 예제 코드를 실행해봅니다.\n",
    "\n",
    "### NumPy 패키지\n",
    "\n",
    "- NumPy는 수치 연산을 위한 핵심 패키지입니다.\n",
    "- 다차원 배열과 다양한 수학 함수를 제공합니다.\n",
    "- NumPy 배열 생성 및 기본 연산을 실습해봅시다.\n"
   ]
  },
  {
   "cell_type": "code",
   "execution_count": 13,
   "metadata": {},
   "outputs": [
    {
     "name": "stdout",
     "output_type": "stream",
     "text": [
      "NumPy 배열: [1 2 3 4 5]\n",
      "배열의 합: 15\n"
     ]
    }
   ],
   "source": [
    "import numpy as np\n",
    "\n",
    "# NumPy 배열 생성\n",
    "arr = np.array([1, 2, 3, 4, 5])\n",
    "print(\"NumPy 배열:\", arr)\n",
    "\n",
    "# 기본 수학 연산\n",
    "print(\"배열의 합:\", np.sum(arr))"
   ]
  },
  {
   "cell_type": "markdown",
   "metadata": {},
   "source": [
    "### Pandas 패키지\n",
    "\n",
    "- Pandas는 데이터 분석을 위한 필수 패키지입니다.\n",
    "- 데이터프레임과 시리즈를 사용하여 효율적으로 데이터를 처리합니다.\n",
    "- 간단한 데이터프레임 생성과 조작을 실습해봅시다.\n"
   ]
  },
  {
   "cell_type": "code",
   "execution_count": 14,
   "metadata": {},
   "outputs": [
    {
     "name": "stdout",
     "output_type": "stream",
     "text": [
      "데이터프레임:\n",
      "    A  B  C\n",
      "0  1  4  7\n",
      "1  2  5  8\n",
      "2  3  6  9\n",
      "열 'A':\n",
      " 0    1\n",
      "1    2\n",
      "2    3\n",
      "Name: A, dtype: int64\n"
     ]
    }
   ],
   "source": [
    "import pandas as pd\n",
    "\n",
    "# 데이터프레임 생성\n",
    "df = pd.DataFrame({\"A\": [1, 2, 3], \"B\": [4, 5, 6], \"C\": [7, 8, 9]})\n",
    "print(\"데이터프레임:\\n\", df)\n",
    "\n",
    "# 데이터 선택 및 조작\n",
    "print(\"열 'A':\\n\", df[\"A\"])"
   ]
  },
  {
   "cell_type": "markdown",
   "metadata": {},
   "source": [
    "### Matplotlib 패키지\n",
    "\n",
    "- Matplotlib는 데이터 시각화를 위한 기본 패키지입니다.\n",
    "- 다양한 형태의 그래프와 차트를 제공합니다.\n",
    "- 간단한 그래프를 그려보는 실습을 진행해봅시다.\n"
   ]
  },
  {
   "cell_type": "code",
   "execution_count": 15,
   "metadata": {},
   "outputs": [
    {
     "data": {
      "image/png": "[encoded data removed]",
      "text/plain": [
       "<Figure size 640x480 with 1 Axes>"
      ]
     },
     "metadata": {},
     "output_type": "display_data"
    }
   ],
   "source": [
    "import matplotlib.pyplot as plt\n",
    "\n",
    "# 그래프 데이터\n",
    "x = np.arange(0, 10, 0.1)\n",
    "y = np.sin(x)\n",
    "\n",
    "# 그래프 그리기\n",
    "plt.plot(x, y)\n",
    "plt.title(\"Sine Wave\")\n",
    "plt.xlabel(\"x\")\n",
    "plt.ylabel(\"sin(x)\")\n",
    "plt.show()"
   ]
  },
  {
   "cell_type": "markdown",
   "metadata": {},
   "source": [
    "### 추가 Python 패키지\n",
    "\n",
    "- Python에는 데이터 과학과 관련된 다양한 다른 패키지들이 있습니다.\n",
    "- 예를 들어, Seaborn은 Matplotlib에 기반한 고급 데이터 시각화 패키지입니다.\n",
    "- SciPy, scikit-learn과 같은 패키지는 과학적 계산과 머신러닝에 활용됩니다.\n",
    "\n",
    "### 마무리\n",
    "\n",
    "- 이번 세션에서 소개된 패키지들은 Python 데이터 과학의 기초를 이룹니다.\n",
    "- 실습을 통해 각 패키지의 기본적인 사용법을 익혔습니다.\n",
    "- 다양한 데이터와 상황에 맞게 이 패키지들을 활용해보세요.\n",
    "- 지속적인 실습과 탐구를 통해 더 많은 기능과 패키지를 익혀보길 권장합니다.\n",
    "\n",
    "## 5. 간단한 인공지능 알고리즘 구현\n",
    "\n",
    "### 서론\n",
    "\n",
    "- 인공지능 프로그래밍의 기초는 간단한 알고리즘 구현에서 시작합니다.\n",
    "- 이 세션에서는 Python을 사용하여 기본적인 AI 알고리즘을 구현하는 방법을 실습합니다.\n",
    "\n",
    "### 선형 회귀 알고리즘\n",
    "\n",
    "- 선형 회귀는 데이터 사이의 관계를 모델링하는 간단한 AI 알고리즘입니다.\n",
    "- 이 예제에서는 NumPy를 사용하여 선형 회귀 모델을 구현해봅니다.\n"
   ]
  },
  {
   "cell_type": "code",
   "execution_count": 16,
   "metadata": {},
   "outputs": [
    {
     "name": "stdout",
     "output_type": "stream",
     "text": [
      "기울기: 0.7\n",
      "절편: 1.9000000000000004\n"
     ]
    }
   ],
   "source": [
    "import numpy as np\n",
    "\n",
    "# 샘플 데이터\n",
    "X = np.array([1, 2, 3, 4, 5])\n",
    "y = np.array([3, 4, 2, 5, 6])\n",
    "\n",
    "# 선형 회귀 모델 구현\n",
    "X_mean = np.mean(X)\n",
    "y_mean = np.mean(y)\n",
    "numerator = sum((X - X_mean) * (y - y_mean))\n",
    "denominator = sum((X - X_mean) ** 2)\n",
    "slope = numerator / denominator\n",
    "intercept = y_mean - slope * X_mean\n",
    "\n",
    "# 결과 출력\n",
    "print(\"기울기:\", slope)\n",
    "print(\"절편:\", intercept)"
   ]
  },
  {
   "cell_type": "markdown",
   "metadata": {},
   "source": [
    "### 간단한 분류 알고리즘\n",
    "\n",
    "- 분류는 데이터를 미리 정의된 클래스로 분류하는 과정입니다.\n",
    "- k-최근접 이웃(K-Nearest Neighbors, KNN) 알고리즘을 간단하게 구현해봅시다.\n"
   ]
  },
  {
   "cell_type": "code",
   "execution_count": 19,
   "metadata": {},
   "outputs": [],
   "source": [
    "%%capture \n",
    "%pip install scikit-learn"
   ]
  },
  {
   "cell_type": "code",
   "execution_count": 20,
   "metadata": {},
   "outputs": [
    {
     "name": "stdout",
     "output_type": "stream",
     "text": [
      "예측 결과: [0]\n"
     ]
    }
   ],
   "source": [
    "from sklearn.neighbors import KNeighborsClassifier\n",
    "\n",
    "# 샘플 데이터\n",
    "X = [[0], [1], [2], [3]]\n",
    "y = [0, 0, 1, 1]\n",
    "\n",
    "# KNN 모델 생성 및 훈련\n",
    "knn = KNeighborsClassifier(n_neighbors=3)\n",
    "knn.fit(X, y)\n",
    "\n",
    "# 새로운 데이터 예측\n",
    "print(\"예측 결과:\", knn.predict([[1.5]]))"
   ]
  },
  {
   "cell_type": "markdown",
   "metadata": {},
   "source": [
    "### 의사결정 트리 알고리즘\n",
    "\n",
    "- 의사결정 트리는 분류 및 회귀 문제에 널리 사용되는 알고리즘입니다.\n",
    "- Scikit-learn 라이브러리를 사용하여 의사결정 트리를 구현해봅시다.\n"
   ]
  },
  {
   "cell_type": "code",
   "execution_count": 21,
   "metadata": {},
   "outputs": [
    {
     "name": "stdout",
     "output_type": "stream",
     "text": [
      "예측 결과: [1]\n"
     ]
    }
   ],
   "source": [
    "from sklearn.tree import DecisionTreeClassifier\n",
    "\n",
    "# 샘플 데이터\n",
    "X = [[0, 0], [1, 1], [2, 2]]\n",
    "y = [0, 1, 1]\n",
    "\n",
    "# 의사결정 트리 모델 생성 및 훈련\n",
    "tree = DecisionTreeClassifier()\n",
    "tree.fit(X, y)\n",
    "\n",
    "# 새로운 데이터 예측\n",
    "print(\"예측 결과:\", tree.predict([[1, 1]]))"
   ]
  },
  {
   "cell_type": "markdown",
   "metadata": {},
   "source": [
    "### 알고리즘의 성능 평가\n",
    "\n",
    "- AI 알고리즘의 성능을 평가하는 것은 중요합니다.\n",
    "- 정확도, 정밀도, 재현율 등 여러 메트릭을 사용하여 알고리즘을 평가할 수 있습니다.\n",
    "- 간단한 예제를 통해 성능 평가를 실습해봅시다.\n"
   ]
  },
  {
   "cell_type": "code",
   "execution_count": 22,
   "metadata": {},
   "outputs": [
    {
     "name": "stdout",
     "output_type": "stream",
     "text": [
      "정확도: 0.5\n"
     ]
    }
   ],
   "source": [
    "from sklearn.metrics import accuracy_score\n",
    "\n",
    "# 실제 레이블과 예측 레이블\n",
    "y_true = [0, 1, 1, 0]\n",
    "y_pred = [0, 1, 0, 1]\n",
    "\n",
    "# 정확도 계산\n",
    "accuracy = accuracy_score(y_true, y_pred)\n",
    "print(\"정확도:\", accuracy)"
   ]
  },
  {
   "cell_type": "markdown",
   "metadata": {},
   "source": [
    "### 마무리\n",
    "\n",
    "- 오늘 실습을 통해 기본적인 AI 알고리즘 구현 방법을 배웠습니다.\n",
    "- 이러한 알고리즘은 더 복잡한 AI 시스템의 기초가 됩니다\n"
   ]
  },
  {
   "cell_type": "markdown",
   "metadata": {},
   "source": []
  }
 ],
 "metadata": {
  "colab": {
   "name": "aibasics-lab.ipynb",
   "provenance": []
  },
  "interpreter": {
   "hash": "f869af7787e6a1c49e09e367fc6e1b81d93d1c6583b43249c80edc047bd13cb2"
  },
  "kernelspec": {
   "display_name": "Python 3",
   "language": "python",
   "name": "python3"
  },
  "language_info": {
   "codemirror_mode": {
    "name": "ipython",
    "version": 3
   },
   "file_extension": ".py",
   "mimetype": "text/x-python",
   "name": "python",
   "nbconvert_exporter": "python",
   "pygments_lexer": "ipython3",
   "version": "3.8.10"
  },
  "widgets": {
   "application/vnd.jupyter.widget-state+json": {
    "state": {},
    "version_major": 2,
    "version_minor": 0
   }
  }
 },
 "nbformat": 4,
 "nbformat_minor": 1
}
