{
 "cells": [
  {
   "attachments": {},
   "cell_type": "markdown",
   "metadata": {
    "id": "cjgz1WTcPWee"
   },
   "source": [
    "# Lab\n",
    "\n",
    "This Jupyter Notebook demonstrates the usage of the `aibasics` package, including initializing a workspace, mounting Google Drive on Colab, and using HyFI to manage configurations.\n"
   ]
  },
  {
   "attachments": {},
   "cell_type": "markdown",
   "metadata": {},
   "source": [
    "## Initialize Workspace\n",
    "\n",
    "We'll initialize the workspace using the `HyFI.init_workspace` function. The function takes the following parameters:\n",
    "\n",
    "- `workspace`: The root workspace directory.\n",
    "- `project`: The project subdirectory.\n",
    "- `task`: The specific task within the project.\n",
    "- `log_level`: Logging level for the workspace.\n",
    "- `verbose`: Whether to print verbose messages.\n",
    "\n",
    "We'll check if we're running in Google Colab, and if so, we'll mount Google Drive.\n"
   ]
  },
  {
   "cell_type": "code",
   "execution_count": 2,
   "metadata": {},
   "outputs": [
    {
     "name": "stdout",
     "output_type": "stream",
     "text": [
      "project_dir: /workspace/projects/aig/examples\n",
      "\n",
      "name        : AI Uncovered\n",
      "authors     : Young Joon Lee <yj.lee@chu.ac.kr>\n",
      "description : AI Uncovered: A Comprehensive Guide to AI Basics and Applications\n",
      "homepage    : https://aibasics.entelecheia.ai\n",
      "license     : CC-BY-4.0\n",
      "version     : 0.0.0\n",
      "\n",
      "Execute `aibasics --help` to see what you can do with AI Uncovered\n"
     ]
    }
   ],
   "source": [
    "from aibasics import HyFI\n",
    "\n",
    "if HyFI.is_colab():\n",
    "    HyFI.mount_google_drive()\n",
    "\n",
    "ws = HyFI.init_workspace(\n",
    "    workspace=\"/workspace\",\n",
    "    project=\"aig/examples\",\n",
    "    task=\"test\",\n",
    "    log_level=\"WARNING\",\n",
    "    verbose=True,\n",
    ")\n",
    "\n",
    "print(\"project_dir:\", ws.project_dir)\n",
    "HyFI.about()\n"
   ]
  },
  {
   "cell_type": "code",
   "execution_count": null,
   "metadata": {},
   "outputs": [],
   "source": []
  }
 ],
 "metadata": {
  "colab": {
   "name": "corpus.ipynb",
   "provenance": []
  },
  "interpreter": {
   "hash": "f869af7787e6a1c49e09e367fc6e1b81d93d1c6583b43249c80edc047bd13cb2"
  },
  "kernelspec": {
   "display_name": "Python 3",
   "language": "python",
   "name": "python3"
  },
  "language_info": {
   "codemirror_mode": {
    "name": "ipython",
    "version": 3
   },
   "file_extension": ".py",
   "mimetype": "text/x-python",
   "name": "python",
   "nbconvert_exporter": "python",
   "pygments_lexer": "ipython3",
   "version": "3.8.12"
  },
  "widgets": {
   "application/vnd.jupyter.widget-state+json": {
    "state": {},
    "version_major": 2,
    "version_minor": 0
   }
  }
 },
 "nbformat": 4,
 "nbformat_minor": 1
}
